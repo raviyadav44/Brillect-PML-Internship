{
  "nbformat": 4,
  "nbformat_minor": 0,
  "metadata": {
    "colab": {
      "name": "Car_evaluation_anylasis",
      "provenance": []
    },
    "kernelspec": {
      "name": "python3",
      "display_name": "Python 3"
    },
    "language_info": {
      "name": "python"
    }
  },
  "cells": [
    {
      "cell_type": "code",
      "metadata": {
        "id": "UmepKyoUvDqz"
      },
      "source": [
        "import pandas as pd\n",
        "import numpy as np\n",
        "import matplotlib.pyplot as plt\n",
        "from sklearn.model_selection import train_test_split\n",
        "from sklearn.metrics import classification_report\n",
        "from sklearn.metrics import f1_score\n",
        "import warnings\n",
        "warnings.filterwarnings(\"ignore\")\n",
        "from sklearn.preprocessing import LabelEncoder\n",
        "\n",
        "df=pd.read_excel(\"/content/drive/MyDrive/Car Evaluation.xls\")"
      ],
      "execution_count": 107,
      "outputs": []
    },
    {
      "cell_type": "code",
      "metadata": {
        "colab": {
          "base_uri": "https://localhost:8080/"
        },
        "id": "ZckNb96ExNIq",
        "outputId": "99fc7df2-88b7-4206-c0fd-1146c1ad7bb6"
      },
      "source": [
        "df.shape"
      ],
      "execution_count": 108,
      "outputs": [
        {
          "output_type": "execute_result",
          "data": {
            "text/plain": [
              "(1727, 7)"
            ]
          },
          "metadata": {
            "tags": []
          },
          "execution_count": 108
        }
      ]
    },
    {
      "cell_type": "code",
      "metadata": {
        "colab": {
          "base_uri": "https://localhost:8080/"
        },
        "id": "G6DSN_yGxQs1",
        "outputId": "225aa9e9-f479-45de-ea25-d255ba68b03c"
      },
      "source": [
        "df.columns"
      ],
      "execution_count": 109,
      "outputs": [
        {
          "output_type": "execute_result",
          "data": {
            "text/plain": [
              "Index(['buying', 'maint', 'doors', 'persons', 'lug_boot', 'safety', 'Class'], dtype='object')"
            ]
          },
          "metadata": {
            "tags": []
          },
          "execution_count": 109
        }
      ]
    },
    {
      "cell_type": "code",
      "metadata": {
        "colab": {
          "base_uri": "https://localhost:8080/",
          "height": 203
        },
        "id": "0Iry5gwmxS2e",
        "outputId": "1d0dbe4d-148f-43ff-ad31-aba827de6365"
      },
      "source": [
        "df.head()"
      ],
      "execution_count": 110,
      "outputs": [
        {
          "output_type": "execute_result",
          "data": {
            "text/html": [
              "<div>\n",
              "<style scoped>\n",
              "    .dataframe tbody tr th:only-of-type {\n",
              "        vertical-align: middle;\n",
              "    }\n",
              "\n",
              "    .dataframe tbody tr th {\n",
              "        vertical-align: top;\n",
              "    }\n",
              "\n",
              "    .dataframe thead th {\n",
              "        text-align: right;\n",
              "    }\n",
              "</style>\n",
              "<table border=\"1\" class=\"dataframe\">\n",
              "  <thead>\n",
              "    <tr style=\"text-align: right;\">\n",
              "      <th></th>\n",
              "      <th>buying</th>\n",
              "      <th>maint</th>\n",
              "      <th>doors</th>\n",
              "      <th>persons</th>\n",
              "      <th>lug_boot</th>\n",
              "      <th>safety</th>\n",
              "      <th>Class</th>\n",
              "    </tr>\n",
              "  </thead>\n",
              "  <tbody>\n",
              "    <tr>\n",
              "      <th>0</th>\n",
              "      <td>vhigh</td>\n",
              "      <td>vhigh</td>\n",
              "      <td>2</td>\n",
              "      <td>2</td>\n",
              "      <td>small</td>\n",
              "      <td>med</td>\n",
              "      <td>unacc</td>\n",
              "    </tr>\n",
              "    <tr>\n",
              "      <th>1</th>\n",
              "      <td>vhigh</td>\n",
              "      <td>vhigh</td>\n",
              "      <td>2</td>\n",
              "      <td>2</td>\n",
              "      <td>small</td>\n",
              "      <td>high</td>\n",
              "      <td>unacc</td>\n",
              "    </tr>\n",
              "    <tr>\n",
              "      <th>2</th>\n",
              "      <td>vhigh</td>\n",
              "      <td>vhigh</td>\n",
              "      <td>2</td>\n",
              "      <td>2</td>\n",
              "      <td>med</td>\n",
              "      <td>low</td>\n",
              "      <td>unacc</td>\n",
              "    </tr>\n",
              "    <tr>\n",
              "      <th>3</th>\n",
              "      <td>vhigh</td>\n",
              "      <td>vhigh</td>\n",
              "      <td>2</td>\n",
              "      <td>2</td>\n",
              "      <td>med</td>\n",
              "      <td>med</td>\n",
              "      <td>unacc</td>\n",
              "    </tr>\n",
              "    <tr>\n",
              "      <th>4</th>\n",
              "      <td>vhigh</td>\n",
              "      <td>vhigh</td>\n",
              "      <td>2</td>\n",
              "      <td>2</td>\n",
              "      <td>med</td>\n",
              "      <td>high</td>\n",
              "      <td>unacc</td>\n",
              "    </tr>\n",
              "  </tbody>\n",
              "</table>\n",
              "</div>"
            ],
            "text/plain": [
              "  buying  maint doors persons lug_boot safety  Class\n",
              "0  vhigh  vhigh     2       2    small    med  unacc\n",
              "1  vhigh  vhigh     2       2    small   high  unacc\n",
              "2  vhigh  vhigh     2       2      med    low  unacc\n",
              "3  vhigh  vhigh     2       2      med    med  unacc\n",
              "4  vhigh  vhigh     2       2      med   high  unacc"
            ]
          },
          "metadata": {
            "tags": []
          },
          "execution_count": 110
        }
      ]
    },
    {
      "cell_type": "code",
      "metadata": {
        "colab": {
          "base_uri": "https://localhost:8080/"
        },
        "id": "-lORU_VyxYsM",
        "outputId": "b9b06316-a5e9-491f-ff8b-b6de3f3d2b7d"
      },
      "source": [
        "df.info()"
      ],
      "execution_count": 111,
      "outputs": [
        {
          "output_type": "stream",
          "text": [
            "<class 'pandas.core.frame.DataFrame'>\n",
            "RangeIndex: 1727 entries, 0 to 1726\n",
            "Data columns (total 7 columns):\n",
            " #   Column    Non-Null Count  Dtype \n",
            "---  ------    --------------  ----- \n",
            " 0   buying    1727 non-null   object\n",
            " 1   maint     1727 non-null   object\n",
            " 2   doors     1727 non-null   object\n",
            " 3   persons   1727 non-null   object\n",
            " 4   lug_boot  1727 non-null   object\n",
            " 5   safety    1727 non-null   object\n",
            " 6   Class     1727 non-null   object\n",
            "dtypes: object(7)\n",
            "memory usage: 94.6+ KB\n"
          ],
          "name": "stdout"
        }
      ]
    },
    {
      "cell_type": "markdown",
      "metadata": {
        "id": "LLDornSQxrhg"
      },
      "source": [
        "###So we can see that the all the features are of Object type."
      ]
    },
    {
      "cell_type": "code",
      "metadata": {
        "colab": {
          "base_uri": "https://localhost:8080/"
        },
        "id": "l-zZ0svjxgvn",
        "outputId": "1504d3e4-b30c-44e9-d853-f271ea6f81f3"
      },
      "source": [
        "df.isnull().sum()"
      ],
      "execution_count": 112,
      "outputs": [
        {
          "output_type": "execute_result",
          "data": {
            "text/plain": [
              "buying      0\n",
              "maint       0\n",
              "doors       0\n",
              "persons     0\n",
              "lug_boot    0\n",
              "safety      0\n",
              "Class       0\n",
              "dtype: int64"
            ]
          },
          "metadata": {
            "tags": []
          },
          "execution_count": 112
        }
      ]
    },
    {
      "cell_type": "markdown",
      "metadata": {
        "id": "zGsHAj7bx6LF"
      },
      "source": [
        "###so there is no null values in our dataset"
      ]
    },
    {
      "cell_type": "code",
      "metadata": {
        "colab": {
          "base_uri": "https://localhost:8080/"
        },
        "id": "l4pVDLAF3HNI",
        "outputId": "7b5b2560-cc6b-45ba-c159-b842d4c0ed03"
      },
      "source": [
        "df['doors'].unique()"
      ],
      "execution_count": 113,
      "outputs": [
        {
          "output_type": "execute_result",
          "data": {
            "text/plain": [
              "array(['2', '3', '4', '5more'], dtype=object)"
            ]
          },
          "metadata": {
            "tags": []
          },
          "execution_count": 113
        }
      ]
    },
    {
      "cell_type": "code",
      "metadata": {
        "colab": {
          "base_uri": "https://localhost:8080/"
        },
        "id": "cMx9xMsN3JNV",
        "outputId": "7898f48d-a589-46a2-bb5c-b449de0cc348"
      },
      "source": [
        "df['persons'].unique()"
      ],
      "execution_count": 114,
      "outputs": [
        {
          "output_type": "execute_result",
          "data": {
            "text/plain": [
              "array(['2', '4', 'more'], dtype=object)"
            ]
          },
          "metadata": {
            "tags": []
          },
          "execution_count": 114
        }
      ]
    },
    {
      "cell_type": "markdown",
      "metadata": {
        "id": "w_Vgf2A1yZMW"
      },
      "source": [
        "#Univariate anylasis"
      ]
    },
    {
      "cell_type": "code",
      "metadata": {
        "colab": {
          "base_uri": "https://localhost:8080/"
        },
        "id": "d6fZFg_jx2xy",
        "outputId": "b36cdab4-8590-495a-80be-18c6004844e1"
      },
      "source": [
        "df.buying.unique()"
      ],
      "execution_count": 115,
      "outputs": [
        {
          "output_type": "execute_result",
          "data": {
            "text/plain": [
              "array(['vhigh', 'high', 'med', 'low'], dtype=object)"
            ]
          },
          "metadata": {
            "tags": []
          },
          "execution_count": 115
        }
      ]
    },
    {
      "cell_type": "code",
      "metadata": {
        "colab": {
          "base_uri": "https://localhost:8080/",
          "height": 296
        },
        "id": "_8sm1KFcySin",
        "outputId": "768b50fe-96cf-4c55-c67f-eb9bdd31a4e8"
      },
      "source": [
        "sns.countplot(df['buying'])"
      ],
      "execution_count": 116,
      "outputs": [
        {
          "output_type": "execute_result",
          "data": {
            "text/plain": [
              "<matplotlib.axes._subplots.AxesSubplot at 0x7f701613f790>"
            ]
          },
          "metadata": {
            "tags": []
          },
          "execution_count": 116
        },
        {
          "output_type": "display_data",
          "data": {
            "image/png": "[encoded data removed]",
            "text/plain": [
              "<Figure size 432x288 with 1 Axes>"
            ]
          },
          "metadata": {
            "tags": [],
            "needs_background": "light"
          }
        }
      ]
    },
    {
      "cell_type": "markdown",
      "metadata": {
        "id": "VXPe36CkzFZ7"
      },
      "source": [
        "###So we can see that all the fields are balanced."
      ]
    },
    {
      "cell_type": "code",
      "metadata": {
        "id": "JLyt7Lp6y4fd",
        "colab": {
          "base_uri": "https://localhost:8080/"
        },
        "outputId": "8f91ebfc-ed46-4081-986c-28c33156a4bb"
      },
      "source": [
        "for col in df.columns:\n",
        "  print(col+\":\")\n",
        "  print(df[col].unique())\n",
        "  "
      ],
      "execution_count": 117,
      "outputs": [
        {
          "output_type": "stream",
          "text": [
            "buying:\n",
            "['vhigh' 'high' 'med' 'low']\n",
            "maint:\n",
            "['vhigh' 'high' 'med' 'low']\n",
            "doors:\n",
            "['2' '3' '4' '5more']\n",
            "persons:\n",
            "['2' '4' 'more']\n",
            "lug_boot:\n",
            "['small' 'med' 'big']\n",
            "safety:\n",
            "['med' 'high' 'low']\n",
            "Class:\n",
            "['unacc' 'acc' 'vgood' 'good']\n"
          ],
          "name": "stdout"
        }
      ]
    },
    {
      "cell_type": "markdown",
      "metadata": {
        "id": "9oxRiWxy1e9l"
      },
      "source": [
        "###so converting '5more' to 5 and 'more' to 5"
      ]
    },
    {
      "cell_type": "code",
      "metadata": {
        "id": "jDJ8suIpe0Gy"
      },
      "source": [
        "df['doors']=df['doors'].replace({'5more':'5'})\n",
        "df['persons']=df['persons'].replace({'more':'5'})"
      ],
      "execution_count": 118,
      "outputs": []
    },
    {
      "cell_type": "markdown",
      "metadata": {
        "id": "Bc94oorNzLtZ"
      },
      "source": [
        "#Lable encoding "
      ]
    },
    {
      "cell_type": "code",
      "metadata": {
        "id": "O-pevuX1f_fn",
        "colab": {
          "base_uri": "https://localhost:8080/",
          "height": 203
        },
        "outputId": "d5690c29-f39e-48ab-c503-821285daac38"
      },
      "source": [
        "df_label = df.apply(LabelEncoder().fit_transform)# vgood-->3,good-->1,unacc-->2,acc-->0\n",
        "df_label.head()"
      ],
      "execution_count": 119,
      "outputs": [
        {
          "output_type": "execute_result",
          "data": {
            "text/html": [
              "<div>\n",
              "<style scoped>\n",
              "    .dataframe tbody tr th:only-of-type {\n",
              "        vertical-align: middle;\n",
              "    }\n",
              "\n",
              "    .dataframe tbody tr th {\n",
              "        vertical-align: top;\n",
              "    }\n",
              "\n",
              "    .dataframe thead th {\n",
              "        text-align: right;\n",
              "    }\n",
              "</style>\n",
              "<table border=\"1\" class=\"dataframe\">\n",
              "  <thead>\n",
              "    <tr style=\"text-align: right;\">\n",
              "      <th></th>\n",
              "      <th>buying</th>\n",
              "      <th>maint</th>\n",
              "      <th>doors</th>\n",
              "      <th>persons</th>\n",
              "      <th>lug_boot</th>\n",
              "      <th>safety</th>\n",
              "      <th>Class</th>\n",
              "    </tr>\n",
              "  </thead>\n",
              "  <tbody>\n",
              "    <tr>\n",
              "      <th>0</th>\n",
              "      <td>3</td>\n",
              "      <td>3</td>\n",
              "      <td>0</td>\n",
              "      <td>0</td>\n",
              "      <td>2</td>\n",
              "      <td>2</td>\n",
              "      <td>2</td>\n",
              "    </tr>\n",
              "    <tr>\n",
              "      <th>1</th>\n",
              "      <td>3</td>\n",
              "      <td>3</td>\n",
              "      <td>0</td>\n",
              "      <td>0</td>\n",
              "      <td>2</td>\n",
              "      <td>0</td>\n",
              "      <td>2</td>\n",
              "    </tr>\n",
              "    <tr>\n",
              "      <th>2</th>\n",
              "      <td>3</td>\n",
              "      <td>3</td>\n",
              "      <td>0</td>\n",
              "      <td>0</td>\n",
              "      <td>1</td>\n",
              "      <td>1</td>\n",
              "      <td>2</td>\n",
              "    </tr>\n",
              "    <tr>\n",
              "      <th>3</th>\n",
              "      <td>3</td>\n",
              "      <td>3</td>\n",
              "      <td>0</td>\n",
              "      <td>0</td>\n",
              "      <td>1</td>\n",
              "      <td>2</td>\n",
              "      <td>2</td>\n",
              "    </tr>\n",
              "    <tr>\n",
              "      <th>4</th>\n",
              "      <td>3</td>\n",
              "      <td>3</td>\n",
              "      <td>0</td>\n",
              "      <td>0</td>\n",
              "      <td>1</td>\n",
              "      <td>0</td>\n",
              "      <td>2</td>\n",
              "    </tr>\n",
              "  </tbody>\n",
              "</table>\n",
              "</div>"
            ],
            "text/plain": [
              "   buying  maint  doors  persons  lug_boot  safety  Class\n",
              "0       3      3      0        0         2       2      2\n",
              "1       3      3      0        0         2       0      2\n",
              "2       3      3      0        0         1       1      2\n",
              "3       3      3      0        0         1       2      2\n",
              "4       3      3      0        0         1       0      2"
            ]
          },
          "metadata": {
            "tags": []
          },
          "execution_count": 119
        }
      ]
    },
    {
      "cell_type": "code",
      "metadata": {
        "id": "yycMH7w72CQh"
      },
      "source": [
        "X_label=df_label.drop('Class',axis=1)\n",
        "y_label=df_label['Class']"
      ],
      "execution_count": 120,
      "outputs": []
    },
    {
      "cell_type": "markdown",
      "metadata": {
        "id": "dN-AOjuf8JBu"
      },
      "source": [
        "#Ordinal encoding"
      ]
    },
    {
      "cell_type": "code",
      "metadata": {
        "colab": {
          "base_uri": "https://localhost:8080/",
          "height": 203
        },
        "id": "meqF95qW8Ini",
        "outputId": "9f0ec194-bd9e-4bd5-c95a-ed9176977560"
      },
      "source": [
        "dict1={'vhigh' : 3,'high':2 ,'med':1 ,'low':0}\n",
        "dict2={'2':0,'3':1,'4':2,'5':3}\n",
        "dict3={'small':0,'med':1,'big':2}\n",
        "dict4={'2':0,'4':1,'5':2}\n",
        "dict5={'med':1,'high':2 ,'low':0}\n",
        "dict6={'unacc':2,'vgood':3 ,'good':1,'acc':0}\n",
        "\n",
        "df_O=df.copy()\n",
        "df_O['buying']=df_O['buying'].map(dict1)\n",
        "df_O['maint']=df_O['maint'].map(dict1)\n",
        "df_O['doors']=df_O['doors'].map(dict2)\n",
        "df_O['lug_boot']=df_O['lug_boot'].map(dict3)\n",
        "df_O['persons']=df_O['persons'].map(dict4)\n",
        "df_O['safety']=df_O['safety'].map(dict1)\n",
        "df_O['Class']=df_O['Class'].map(dict6)\n",
        "df_O.head()"
      ],
      "execution_count": 121,
      "outputs": [
        {
          "output_type": "execute_result",
          "data": {
            "text/html": [
              "<div>\n",
              "<style scoped>\n",
              "    .dataframe tbody tr th:only-of-type {\n",
              "        vertical-align: middle;\n",
              "    }\n",
              "\n",
              "    .dataframe tbody tr th {\n",
              "        vertical-align: top;\n",
              "    }\n",
              "\n",
              "    .dataframe thead th {\n",
              "        text-align: right;\n",
              "    }\n",
              "</style>\n",
              "<table border=\"1\" class=\"dataframe\">\n",
              "  <thead>\n",
              "    <tr style=\"text-align: right;\">\n",
              "      <th></th>\n",
              "      <th>buying</th>\n",
              "      <th>maint</th>\n",
              "      <th>doors</th>\n",
              "      <th>persons</th>\n",
              "      <th>lug_boot</th>\n",
              "      <th>safety</th>\n",
              "      <th>Class</th>\n",
              "    </tr>\n",
              "  </thead>\n",
              "  <tbody>\n",
              "    <tr>\n",
              "      <th>0</th>\n",
              "      <td>3</td>\n",
              "      <td>3</td>\n",
              "      <td>0</td>\n",
              "      <td>0</td>\n",
              "      <td>0</td>\n",
              "      <td>1</td>\n",
              "      <td>2</td>\n",
              "    </tr>\n",
              "    <tr>\n",
              "      <th>1</th>\n",
              "      <td>3</td>\n",
              "      <td>3</td>\n",
              "      <td>0</td>\n",
              "      <td>0</td>\n",
              "      <td>0</td>\n",
              "      <td>2</td>\n",
              "      <td>2</td>\n",
              "    </tr>\n",
              "    <tr>\n",
              "      <th>2</th>\n",
              "      <td>3</td>\n",
              "      <td>3</td>\n",
              "      <td>0</td>\n",
              "      <td>0</td>\n",
              "      <td>1</td>\n",
              "      <td>0</td>\n",
              "      <td>2</td>\n",
              "    </tr>\n",
              "    <tr>\n",
              "      <th>3</th>\n",
              "      <td>3</td>\n",
              "      <td>3</td>\n",
              "      <td>0</td>\n",
              "      <td>0</td>\n",
              "      <td>1</td>\n",
              "      <td>1</td>\n",
              "      <td>2</td>\n",
              "    </tr>\n",
              "    <tr>\n",
              "      <th>4</th>\n",
              "      <td>3</td>\n",
              "      <td>3</td>\n",
              "      <td>0</td>\n",
              "      <td>0</td>\n",
              "      <td>1</td>\n",
              "      <td>2</td>\n",
              "      <td>2</td>\n",
              "    </tr>\n",
              "  </tbody>\n",
              "</table>\n",
              "</div>"
            ],
            "text/plain": [
              "   buying  maint  doors  persons  lug_boot  safety  Class\n",
              "0       3      3      0        0         0       1      2\n",
              "1       3      3      0        0         0       2      2\n",
              "2       3      3      0        0         1       0      2\n",
              "3       3      3      0        0         1       1      2\n",
              "4       3      3      0        0         1       2      2"
            ]
          },
          "metadata": {
            "tags": []
          },
          "execution_count": 121
        }
      ]
    },
    {
      "cell_type": "code",
      "metadata": {
        "id": "xpu9x-cs8IgZ"
      },
      "source": [
        "X_O=df_O.drop('Class',axis=1)\n",
        "y_O=df_O['Class']"
      ],
      "execution_count": 122,
      "outputs": []
    },
    {
      "cell_type": "markdown",
      "metadata": {
        "id": "sc-qqHyizPof"
      },
      "source": [
        "#Count or Frequency encoding"
      ]
    },
    {
      "cell_type": "code",
      "metadata": {
        "id": "FiHlTIFC2COV"
      },
      "source": [
        "D1=df['buying'].value_counts().to_dict()\n",
        "D2=df['maint'].value_counts().to_dict()\n",
        "D3=df['doors'].value_counts().to_dict()\n",
        "D4=df['persons'].value_counts().to_dict()\n",
        "D5=df['lug_boot'].value_counts().to_dict()\n",
        "D6=df['safety'].value_counts().to_dict()\n",
        "dict7={'unacc':2,'vgood':3 ,'good':1,'acc':0}\n",
        "\n",
        "\n",
        "df_GO=df.copy()\n",
        "df_GO['buying']=df_GO['buying'].map(D1)\n",
        "df_GO['maint']=df_GO['maint'].map(D2)\n",
        "df_GO['doors']=df_GO['doors'].map(D3)\n",
        "df_GO['lug_boot']=df_GO['lug_boot'].map(D5)\n",
        "df_GO['persons']=df_GO['persons'].map(D4)\n",
        "df_GO['safety']=df_GO['safety'].map(D6)\n",
        "df_GO['Class']=df_GO['Class'].map(dict7)\n",
        "df_GO.head()"
      ],
      "execution_count": null,
      "outputs": []
    },
    {
      "cell_type": "code",
      "metadata": {
        "id": "evrLUSUb2CLV"
      },
      "source": [
        "X_GO=df_GO.drop('Class',axis=1)\n",
        "y_GO=df_GO['Class']"
      ],
      "execution_count": 124,
      "outputs": []
    },
    {
      "cell_type": "markdown",
      "metadata": {
        "id": "ZNUEUn6THqav"
      },
      "source": [
        "#Mean Encoding"
      ]
    },
    {
      "cell_type": "code",
      "metadata": {
        "colab": {
          "base_uri": "https://localhost:8080/",
          "height": 86
        },
        "id": "3wUJb_0D6Yas",
        "outputId": "04347368-87bf-4b13-8aa0-f0f11c1053d1"
      },
      "source": [
        "'''\n",
        "D1=df.groupby(['buying'])['Class'].mean().to_dict()\n",
        "D2=df.groupby(['maint'])['Class'].mean().to_dict()\n",
        "D3=df.groupby(['doors'])['Class'].mean().to_dict()\n",
        "D4=df.groupby(['lug_boot'])['Class'].mean().to_dict()\n",
        "D5=df.groupby(['persons'])['Class'].mean().to_dict()\n",
        "D6=df.groupby(['safety'])['Class'].mean().to_dict()\n",
        "dict7={'unacc':2,'vgood':3 ,'good':1,'acc':0}\n",
        "\n",
        "df_ME=df.copy()\n",
        "df_ME['buying']=df_ME['buying'].map(D1)\n",
        "df_ME['maint']=df_ME['maint'].map(D2)\n",
        "df_ME['doors']=df_ME['doors'].map(D3)\n",
        "df_ME['lug_boot']=df_ME['lug_boot'].map(D4)\n",
        "df_ME['persons']=df_ME['persons'].map(D5)\n",
        "df_ME['safety']=df_ME['safety'].map(D6)\n",
        "df_ME['Class']=df_ME['Class'].map(dict7)\n",
        "df_ME\n",
        "'''\n",
        "\n",
        "\n"
      ],
      "execution_count": 125,
      "outputs": [
        {
          "output_type": "execute_result",
          "data": {
            "application/vnd.google.colaboratory.intrinsic+json": {
              "type": "string"
            },
            "text/plain": [
              "\"\\nD1=df.groupby(['buying'])['Class'].mean().to_dict()\\nD2=df.groupby(['maint'])['Class'].mean().to_dict()\\nD3=df.groupby(['doors'])['Class'].mean().to_dict()\\nD4=df.groupby(['lug_boot'])['Class'].mean().to_dict()\\nD5=df.groupby(['persons'])['Class'].mean().to_dict()\\nD6=df.groupby(['safety'])['Class'].mean().to_dict()\\ndict7={'unacc':2,'vgood':3 ,'good':1,'acc':0}\\n\\ndf_ME=df.copy()\\ndf_ME['buying']=df_ME['buying'].map(D1)\\ndf_ME['maint']=df_ME['maint'].map(D2)\\ndf_ME['doors']=df_ME['doors'].map(D3)\\ndf_ME['lug_boot']=df_ME['lug_boot'].map(D4)\\ndf_ME['persons']=df_ME['persons'].map(D5)\\ndf_ME['safety']=df_ME['safety'].map(D6)\\ndf_ME['Class']=df_ME['Class'].map(dict7)\\ndf_ME\\n\""
            ]
          },
          "metadata": {
            "tags": []
          },
          "execution_count": 125
        }
      ]
    },
    {
      "cell_type": "markdown",
      "metadata": {
        "id": "u1eH5ZI1BGv1"
      },
      "source": [
        "#Random Forest"
      ]
    },
    {
      "cell_type": "code",
      "metadata": {
        "colab": {
          "base_uri": "https://localhost:8080/"
        },
        "id": "d-zhwLBcINcB",
        "outputId": "dd3cd351-13d6-4528-ec19-b48643e41100"
      },
      "source": [
        "X_train,X_test,y_train,y_test=train_test_split(X_label,y_label,test_size=0.33,random_state=42)\n",
        "print(\"Train Data = \",(X_train.shape,y_train.shape))\n",
        "print(\"Test Data = \",(X_test.shape,y_test.shape))"
      ],
      "execution_count": 126,
      "outputs": [
        {
          "output_type": "stream",
          "text": [
            "Train Data =  ((1157, 6), (1157,))\n",
            "Test Data =  ((570, 6), (570,))\n"
          ],
          "name": "stdout"
        }
      ]
    },
    {
      "cell_type": "code",
      "metadata": {
        "colab": {
          "base_uri": "https://localhost:8080/"
        },
        "id": "lFjLx4a8BKFT",
        "outputId": "74807d3f-844c-4003-d6ad-87814d00dc57"
      },
      "source": [
        "from sklearn.ensemble import RandomForestClassifier\n",
        "R_model=RandomForestClassifier()\n",
        "R_model.fit(X_train,y_train)"
      ],
      "execution_count": 127,
      "outputs": [
        {
          "output_type": "execute_result",
          "data": {
            "text/plain": [
              "RandomForestClassifier(bootstrap=True, ccp_alpha=0.0, class_weight=None,\n",
              "                       criterion='gini', max_depth=None, max_features='auto',\n",
              "                       max_leaf_nodes=None, max_samples=None,\n",
              "                       min_impurity_decrease=0.0, min_impurity_split=None,\n",
              "                       min_samples_leaf=1, min_samples_split=2,\n",
              "                       min_weight_fraction_leaf=0.0, n_estimators=100,\n",
              "                       n_jobs=None, oob_score=False, random_state=None,\n",
              "                       verbose=0, warm_start=False)"
            ]
          },
          "metadata": {
            "tags": []
          },
          "execution_count": 127
        }
      ]
    },
    {
      "cell_type": "code",
      "metadata": {
        "id": "B8DCiNVXIjpA"
      },
      "source": [
        "y_pred=R_model.predict(X_test)"
      ],
      "execution_count": 128,
      "outputs": []
    },
    {
      "cell_type": "code",
      "metadata": {
        "colab": {
          "base_uri": "https://localhost:8080/"
        },
        "id": "rrtdqW4vIjjW",
        "outputId": "bbd62863-d3f9-437c-8d6a-15a5e8e8105f"
      },
      "source": [
        "print(classification_report(y_test, y_pred))"
      ],
      "execution_count": 129,
      "outputs": [
        {
          "output_type": "stream",
          "text": [
            "              precision    recall  f1-score   support\n",
            "\n",
            "           0       0.97      0.90      0.93       127\n",
            "           1       0.86      0.67      0.75        18\n",
            "           2       0.98      1.00      0.99       399\n",
            "           3       0.80      0.92      0.86        26\n",
            "\n",
            "    accuracy                           0.96       570\n",
            "   macro avg       0.90      0.87      0.88       570\n",
            "weighted avg       0.96      0.96      0.96       570\n",
            "\n"
          ],
          "name": "stdout"
        }
      ]
    },
    {
      "cell_type": "markdown",
      "metadata": {
        "id": "u1YnHtkiJJvV"
      },
      "source": [
        "#Ordinal encoding"
      ]
    },
    {
      "cell_type": "code",
      "metadata": {
        "colab": {
          "base_uri": "https://localhost:8080/"
        },
        "id": "6cpvfKg1JEmK",
        "outputId": "264a4020-8076-4188-c227-9e39dd2a3a93"
      },
      "source": [
        "X_train,X_test,y_train,y_test=train_test_split(X_O,y_O,test_size=0.33,random_state=42)\n",
        "print(\"Train Data = \",(X_train.shape,y_train.shape))\n",
        "print(\"Test Data = \",(X_test.shape,y_test.shape))"
      ],
      "execution_count": 130,
      "outputs": [
        {
          "output_type": "stream",
          "text": [
            "Train Data =  ((1157, 6), (1157,))\n",
            "Test Data =  ((570, 6), (570,))\n"
          ],
          "name": "stdout"
        }
      ]
    },
    {
      "cell_type": "code",
      "metadata": {
        "colab": {
          "base_uri": "https://localhost:8080/"
        },
        "id": "vWpOsZPTJUHJ",
        "outputId": "b6924db1-ef79-45f0-ee7a-412b8325578a"
      },
      "source": [
        "from sklearn.ensemble import RandomForestClassifier\n",
        "R_model=RandomForestClassifier()\n",
        "R_model.fit(X_train,y_train)"
      ],
      "execution_count": 131,
      "outputs": [
        {
          "output_type": "execute_result",
          "data": {
            "text/plain": [
              "RandomForestClassifier(bootstrap=True, ccp_alpha=0.0, class_weight=None,\n",
              "                       criterion='gini', max_depth=None, max_features='auto',\n",
              "                       max_leaf_nodes=None, max_samples=None,\n",
              "                       min_impurity_decrease=0.0, min_impurity_split=None,\n",
              "                       min_samples_leaf=1, min_samples_split=2,\n",
              "                       min_weight_fraction_leaf=0.0, n_estimators=100,\n",
              "                       n_jobs=None, oob_score=False, random_state=None,\n",
              "                       verbose=0, warm_start=False)"
            ]
          },
          "metadata": {
            "tags": []
          },
          "execution_count": 131
        }
      ]
    },
    {
      "cell_type": "code",
      "metadata": {
        "colab": {
          "base_uri": "https://localhost:8080/"
        },
        "id": "RzHs0cjpJUkQ",
        "outputId": "80178fce-eb33-4ca8-dc68-1426239b3eed"
      },
      "source": [
        "y_pred=R_model.predict(X_test)\n",
        "print(classification_report(y_test, y_pred))"
      ],
      "execution_count": 132,
      "outputs": [
        {
          "output_type": "stream",
          "text": [
            "              precision    recall  f1-score   support\n",
            "\n",
            "           0       0.96      0.95      0.96       127\n",
            "           1       0.81      0.72      0.76        18\n",
            "           2       1.00      1.00      1.00       399\n",
            "           3       0.79      0.85      0.81        26\n",
            "\n",
            "    accuracy                           0.97       570\n",
            "   macro avg       0.89      0.88      0.88       570\n",
            "weighted avg       0.97      0.97      0.97       570\n",
            "\n"
          ],
          "name": "stdout"
        }
      ]
    },
    {
      "cell_type": "markdown",
      "metadata": {
        "id": "Nsn3CYncJj1P"
      },
      "source": [
        "#Count or Frequency encoding"
      ]
    },
    {
      "cell_type": "code",
      "metadata": {
        "colab": {
          "base_uri": "https://localhost:8080/"
        },
        "id": "l2DBqMmLJqYl",
        "outputId": "1ac4166c-947c-4047-f28f-4893950a7758"
      },
      "source": [
        "X_train,X_test,y_train,y_test=train_test_split(X_GO,y_GO,test_size=0.33,random_state=42)\n",
        "print(\"Train Data = \",(X_train.shape,y_train.shape))\n",
        "print(\"Test Data = \",(X_test.shape,y_test.shape))"
      ],
      "execution_count": 133,
      "outputs": [
        {
          "output_type": "stream",
          "text": [
            "Train Data =  ((1157, 6), (1157,))\n",
            "Test Data =  ((570, 6), (570,))\n"
          ],
          "name": "stdout"
        }
      ]
    },
    {
      "cell_type": "code",
      "metadata": {
        "colab": {
          "base_uri": "https://localhost:8080/"
        },
        "id": "_wN0-_j2JuDM",
        "outputId": "0015e561-3fc2-4cfa-9bb2-0f0d998caaea"
      },
      "source": [
        "from sklearn.ensemble import RandomForestClassifier\n",
        "R_model=RandomForestClassifier()\n",
        "R_model.fit(X_train,y_train)"
      ],
      "execution_count": 134,
      "outputs": [
        {
          "output_type": "execute_result",
          "data": {
            "text/plain": [
              "RandomForestClassifier(bootstrap=True, ccp_alpha=0.0, class_weight=None,\n",
              "                       criterion='gini', max_depth=None, max_features='auto',\n",
              "                       max_leaf_nodes=None, max_samples=None,\n",
              "                       min_impurity_decrease=0.0, min_impurity_split=None,\n",
              "                       min_samples_leaf=1, min_samples_split=2,\n",
              "                       min_weight_fraction_leaf=0.0, n_estimators=100,\n",
              "                       n_jobs=None, oob_score=False, random_state=None,\n",
              "                       verbose=0, warm_start=False)"
            ]
          },
          "metadata": {
            "tags": []
          },
          "execution_count": 134
        }
      ]
    },
    {
      "cell_type": "code",
      "metadata": {
        "colab": {
          "base_uri": "https://localhost:8080/"
        },
        "id": "1xQFypsGJt95",
        "outputId": "07140f83-6671-4346-9678-bea30270f086"
      },
      "source": [
        "y_pred=R_model.predict(X_test)\n",
        "print(classification_report(y_test, y_pred))"
      ],
      "execution_count": 135,
      "outputs": [
        {
          "output_type": "stream",
          "text": [
            "              precision    recall  f1-score   support\n",
            "\n",
            "           0       0.60      0.88      0.71       127\n",
            "           1       0.00      0.00      0.00        18\n",
            "           2       0.96      0.92      0.94       399\n",
            "           3       0.00      0.00      0.00        26\n",
            "\n",
            "    accuracy                           0.84       570\n",
            "   macro avg       0.39      0.45      0.41       570\n",
            "weighted avg       0.81      0.84      0.82       570\n",
            "\n"
          ],
          "name": "stdout"
        }
      ]
    },
    {
      "cell_type": "markdown",
      "metadata": {
        "id": "mIDWziCFKnLn"
      },
      "source": [
        "#Overall results"
      ]
    },
    {
      "cell_type": "code",
      "metadata": {
        "id": "QfH2uvhkKlrt"
      },
      "source": [
        "comparision={'Encoding methods used':['Label encoding','Ordinal encoding','frequency encoding'],\n",
        "            'Test_Accuracy':[0.96,0.97,0.84]\n",
        "             };"
      ],
      "execution_count": 140,
      "outputs": []
    },
    {
      "cell_type": "code",
      "metadata": {
        "colab": {
          "base_uri": "https://localhost:8080/",
          "height": 142
        },
        "id": "GS1B7VlhLY4g",
        "outputId": "2461a999-d27c-4259-9597-64f34a72e754"
      },
      "source": [
        "df=pd.DataFrame(comparision)\n",
        "df"
      ],
      "execution_count": 141,
      "outputs": [
        {
          "output_type": "execute_result",
          "data": {
            "text/html": [
              "<div>\n",
              "<style scoped>\n",
              "    .dataframe tbody tr th:only-of-type {\n",
              "        vertical-align: middle;\n",
              "    }\n",
              "\n",
              "    .dataframe tbody tr th {\n",
              "        vertical-align: top;\n",
              "    }\n",
              "\n",
              "    .dataframe thead th {\n",
              "        text-align: right;\n",
              "    }\n",
              "</style>\n",
              "<table border=\"1\" class=\"dataframe\">\n",
              "  <thead>\n",
              "    <tr style=\"text-align: right;\">\n",
              "      <th></th>\n",
              "      <th>Encoding methods used</th>\n",
              "      <th>Test_Accuracy</th>\n",
              "    </tr>\n",
              "  </thead>\n",
              "  <tbody>\n",
              "    <tr>\n",
              "      <th>0</th>\n",
              "      <td>Label encoding</td>\n",
              "      <td>0.96</td>\n",
              "    </tr>\n",
              "    <tr>\n",
              "      <th>1</th>\n",
              "      <td>Ordinal encoding</td>\n",
              "      <td>0.97</td>\n",
              "    </tr>\n",
              "    <tr>\n",
              "      <th>2</th>\n",
              "      <td>frequency encoding</td>\n",
              "      <td>0.84</td>\n",
              "    </tr>\n",
              "  </tbody>\n",
              "</table>\n",
              "</div>"
            ],
            "text/plain": [
              "  Encoding methods used  Test_Accuracy\n",
              "0        Label encoding           0.96\n",
              "1      Ordinal encoding           0.97\n",
              "2    frequency encoding           0.84"
            ]
          },
          "metadata": {
            "tags": []
          },
          "execution_count": 141
        }
      ]
    },
    {
      "cell_type": "markdown",
      "metadata": {
        "id": "7L-X_c-PMN17"
      },
      "source": [
        "#So Ordinal encoding is giving the best result"
      ]
    },
    {
      "cell_type": "code",
      "metadata": {
        "id": "rc9istYGMH72"
      },
      "source": [
        ""
      ],
      "execution_count": null,
      "outputs": []
    }
  ]
}